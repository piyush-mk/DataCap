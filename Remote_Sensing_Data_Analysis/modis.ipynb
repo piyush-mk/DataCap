{
 "cells": [
  {
   "cell_type": "code",
   "execution_count": null,
   "id": "6d559f68-bfe9-48d5-b333-ac7ae68483d8",
   "metadata": {},
   "outputs": [],
   "source": [
    "from netCDF4 import Dataset"
   ]
  },
  {
   "cell_type": "code",
   "execution_count": null,
   "id": "e0255e0a-e535-4a8a-ae37-f961c3982a31",
   "metadata": {},
   "outputs": [],
   "source": [
    "\n",
    "# print(ds.variables['water_mask'][:])"
   ]
  },
  {
   "cell_type": "code",
   "execution_count": null,
   "id": "c2f0806b-3b8b-4b7f-abf2-36dcc46fe57d",
   "metadata": {},
   "outputs": [],
   "source": [
    "import matplotlib.pyplot as plt\n",
    "import os\n",
    "directory = './modis_data_main'\n",
    "i = 0\n",
    "for filename in os.listdir(directory):\n",
    "    f = os.path.join(directory, filename)\n",
    "    ds = Dataset(f, 'r')\n",
    "    data = ds.variables['water_mask'][:]\n",
    "    plt.figure(figsize=(10, 6))\n",
    "    plt.imshow(data, cmap='gray')\n",
    "    n = \"modis_image/modis\" + str(i) + \".jpg\"\n",
    "    i+=1\n",
    "    plt.savefig(n)"
   ]
  },
  {
   "cell_type": "code",
   "execution_count": null,
   "id": "021d39ee-8b91-466c-9669-169a786e4be5",
   "metadata": {},
   "outputs": [],
   "source": []
  }
 ],
 "metadata": {
  "kernelspec": {
   "display_name": "Python 3 (ipykernel)",
   "language": "python",
   "name": "python3"
  },
  "language_info": {
   "codemirror_mode": {
    "name": "ipython",
    "version": 3
   },
   "file_extension": ".py",
   "mimetype": "text/x-python",
   "name": "python",
   "nbconvert_exporter": "python",
   "pygments_lexer": "ipython3",
   "version": "3.10.9"
  }
 },
 "nbformat": 4,
 "nbformat_minor": 5
}
