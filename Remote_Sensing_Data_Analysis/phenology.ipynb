{
 "cells": [
  {
   "cell_type": "code",
   "execution_count": null,
   "id": "f20f21a7-07ed-4b99-ad76-06d01668e320",
   "metadata": {},
   "outputs": [],
   "source": [
    "import h5py\n",
    "import matplotlib.pyplot as plt\n",
    "import os\n",
    "import matplotlib.patches as mpatches"
   ]
  },
  {
   "cell_type": "code",
   "execution_count": null,
   "id": "7d4c0b0a-f183-4f5e-b3bc-f7e3496a395a",
   "metadata": {},
   "outputs": [],
   "source": [
    "directory = './phenology_data'\n",
    "i=0\n",
    "patch = mpatches.Patch(color='blue', label='Onset_Greenness_Increase')\n",
    "for filename in os.listdir(directory):\n",
    "    \n",
    "    # Check if the file is an HDF5 file\n",
    "    if filename.endswith('.h5') or filename.endswith('.hdf5'):\n",
    "        \n",
    "           # Open the dataset\n",
    "           f = os.path.join(directory, filename)\n",
    "           with h5py.File(f, 'r') as file:    \n",
    "                # Plot the 'PGQ_Growing_Season' layer\n",
    "                plt.figure(figsize=(6, 4))\n",
    "                plt.imshow(file['HDFEOS']['GRIDS']['Cycle 1']['Data Fields']['Onset_Greenness_Increase_1'][:], cmap='jet')\n",
    "                plt.title('Onset_Greenness_Increase')\n",
    "                n = \"phenology_image/img\"+str(i)+\".png\"\n",
    "                plt.legend(handles=[patch])\n",
    "                plt.savefig(n)\n",
    "                i+=1\n",
    "\n",
    "                # # Plot the 'GLSP_QC' layer\n",
    "                # plt.figure(figsize=(6, 4))\n",
    "                # plt.imshow(file['HDFEOS']['GRIDS']['Cycle 1']['Data Fields']['GLSP_QC_1'][:], cmap='jet')\n",
    "                # plt.title('GLSP_QC')\n",
    "                # n = \"img\"+str(i)+\".png\"\n",
    "                # plt.savefig(n)\n",
    "                # # Plot the 'Greenness_Agreement_Growing_Season' layer\n",
    "                # plt.figure(figsize=(6, 4))\n",
    "                # plt.imshow(file['HDFEOS']['GRIDS']['Cycle 1']['Data Fields']['Greenness_Agreement_Growing_Season_1'][:], cmap='jet')\n",
    "                # plt.title('Greenness_Agreement_Growing_Season')\n",
    "                # n = \"img\"+str(i)+\".png\"\n",
    "                # plt.savefig(n)\n",
    "                # i+=1"
   ]
  },
  {
   "cell_type": "code",
   "execution_count": null,
   "id": "ecc2e1f5-0ee7-44b1-a373-79d53e84d242",
   "metadata": {},
   "outputs": [],
   "source": []
  }
 ],
 "metadata": {
  "kernelspec": {
   "display_name": "Python 3 (ipykernel)",
   "language": "python",
   "name": "python3"
  },
  "language_info": {
   "codemirror_mode": {
    "name": "ipython",
    "version": 3
   },
   "file_extension": ".py",
   "mimetype": "text/x-python",
   "name": "python",
   "nbconvert_exporter": "python",
   "pygments_lexer": "ipython3",
   "version": "3.10.9"
  }
 },
 "nbformat": 4,
 "nbformat_minor": 5
}
